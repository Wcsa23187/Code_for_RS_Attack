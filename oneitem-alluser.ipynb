{
 "cells": [
  {
   "cell_type": "code",
   "execution_count": 1,
   "metadata": {
    "collapsed": true,
    "pycharm": {
     "name": "#%%\n"
    }
   },
   "outputs": [],
   "source": [
    "import numpy as np\n",
    "train_dict = np.load(r'F:\\RSlib\\data_latest\\ml1m\\matrix\\training_dict.npy',allow_pickle=True).item()\n",
    "user_num = 5950\n",
    "item_num = 3702"
   ]
  },
  {
   "cell_type": "code",
   "execution_count": 2,
   "outputs": [],
   "source": [
    "a = np.zeros((user_num+item_num,user_num+item_num))\n",
    "for i in train_dict.keys():\n",
    "    for j in train_dict[i]:\n",
    "        a[i][j+5950] = 1\n",
    "        a[j+5950][i] = 1"
   ],
   "metadata": {
    "collapsed": false,
    "pycharm": {
     "name": "#%%\n"
    }
   }
  },
  {
   "cell_type": "code",
   "execution_count": 4,
   "outputs": [],
   "source": [
    "# user --> user\n",
    "a1 = np.matmul(a ,a )\n",
    "# user --> item\n",
    "a2 = np.matmul(a1 ,a )\n",
    "# user --> user\n",
    "a3 = np.matmul(a2 ,a )"
   ],
   "metadata": {
    "collapsed": false,
    "pycharm": {
     "name": "#%%\n"
    }
   }
  },
  {
   "cell_type": "code",
   "execution_count": 5,
   "outputs": [
    {
     "name": "stdout",
     "output_type": "stream",
     "text": [
      "(5950, 3702)\n"
     ]
    }
   ],
   "source": [
    "a2_new =  np.zeros((user_num,item_num))\n",
    "\n",
    "print(a2_new.shape)\n",
    "for i in range(5950):\n",
    "    for j in range(5950,9652):\n",
    "        a2_new[i][j-5950] = a2[i][j]\n",
    "a_new =  np.zeros((user_num,item_num))\n",
    "for i in train_dict.keys():\n",
    "    for j in train_dict[i]:\n",
    "        a_new[i][j] = 1"
   ],
   "metadata": {
    "collapsed": false,
    "pycharm": {
     "name": "#%%\n"
    }
   }
  },
  {
   "cell_type": "code",
   "execution_count": 16,
   "outputs": [],
   "source": [
    "def select_item(a3,target):\n",
    "    path_list = []\n",
    "    pair = []\n",
    "    for i in target:\n",
    "        for j in range(5950):\n",
    "            if a_new[j][i] == 0:\n",
    "                path_list.append(a3[j][i])\n",
    "                pair.append([i,j,a3[j][i]])\n",
    "    return path_list,pair"
   ],
   "metadata": {
    "collapsed": false,
    "pycharm": {
     "name": "#%%\n"
    }
   }
  },
  {
   "cell_type": "code",
   "execution_count": 38,
   "outputs": [],
   "source": [
    "lgn_10 = np.load('F:\\RSlib\\data_latest\\ml1m\\matrix\\lgn_10_matrix.npy')"
   ],
   "metadata": {
    "collapsed": false,
    "pycharm": {
     "name": "#%%\n"
    }
   }
  },
  {
   "cell_type": "code",
   "execution_count": 30,
   "outputs": [],
   "source": [
    "# target = [68]\n",
    "target = [3530]\n",
    "path_list,pair = select_item(a2_new,target)\n",
    "path_list.sort()"
   ],
   "metadata": {
    "collapsed": false,
    "pycharm": {
     "name": "#%%\n"
    }
   }
  },
  {
   "cell_type": "code",
   "execution_count": 31,
   "outputs": [],
   "source": [
    "# spilt them into 10 groups\n",
    "range_label = [563*i for i in range(10)]\n",
    "from pandas import DataFrame, Series\n",
    "data = DataFrame(pair, columns=['user_id', 'item_id', 'change'])\n",
    "data_s = data.sort_values(by='change',ascending=True)"
   ],
   "metadata": {
    "collapsed": false,
    "pycharm": {
     "name": "#%%\n"
    }
   }
  },
  {
   "cell_type": "code",
   "execution_count": 33,
   "outputs": [
    {
     "data": {
      "text/plain": "      user_id  item_id  change\n0        3530        0     0.0\n3971     3530     3971     0.0\n3970     3530     3970     0.0\n3969     3530     3969     0.0\n3968     3530     3968     0.0",
      "text/html": "<div>\n<style scoped>\n    .dataframe tbody tr th:only-of-type {\n        vertical-align: middle;\n    }\n\n    .dataframe tbody tr th {\n        vertical-align: top;\n    }\n\n    .dataframe thead th {\n        text-align: right;\n    }\n</style>\n<table border=\"1\" class=\"dataframe\">\n  <thead>\n    <tr style=\"text-align: right;\">\n      <th></th>\n      <th>user_id</th>\n      <th>item_id</th>\n      <th>change</th>\n    </tr>\n  </thead>\n  <tbody>\n    <tr>\n      <th>0</th>\n      <td>3530</td>\n      <td>0</td>\n      <td>0.0</td>\n    </tr>\n    <tr>\n      <th>3971</th>\n      <td>3530</td>\n      <td>3971</td>\n      <td>0.0</td>\n    </tr>\n    <tr>\n      <th>3970</th>\n      <td>3530</td>\n      <td>3970</td>\n      <td>0.0</td>\n    </tr>\n    <tr>\n      <th>3969</th>\n      <td>3530</td>\n      <td>3969</td>\n      <td>0.0</td>\n    </tr>\n    <tr>\n      <th>3968</th>\n      <td>3530</td>\n      <td>3968</td>\n      <td>0.0</td>\n    </tr>\n  </tbody>\n</table>\n</div>"
     },
     "execution_count": 33,
     "metadata": {},
     "output_type": "execute_result"
    }
   ],
   "source": [
    "data_s.head()"
   ],
   "metadata": {
    "collapsed": false,
    "pycharm": {
     "name": "#%%\n"
    }
   }
  },
  {
   "cell_type": "code",
   "execution_count": 34,
   "outputs": [
    {
     "name": "stdout",
     "output_type": "stream",
     "text": [
      "596\n"
     ]
    }
   ],
   "source": [
    "final_dict ={}\n",
    "for i in range(10):\n",
    "    final_dict[i]=[]\n",
    "cnt = 1\n",
    "spit = int(len(path_list)/10)+1\n",
    "print(spit)\n",
    "i=0\n",
    "for entry in data_s.values.tolist():\n",
    "    user,item,change = entry\n",
    "    final_dict[i].append((user,item))\n",
    "    if (cnt % spit) ==0:\n",
    "        i+=1\n",
    "    cnt+=1\n",
    "num_matrix = {}\n",
    "for i in range(10):\n",
    "    print(i)\n",
    "    template = np.zeros((user_num,item_num))\n",
    "    for item in final_dict[i]:\n",
    "        template[int(item[1])][int(item[0])] = 1\n",
    "    num_matrix[i] = template\n",
    "# just need mult\n",
    "num_2={}\n",
    "for i in range(10):\n",
    "    print(i)\n",
    "    x = lgn_10 * num_matrix[i]\n",
    "    sum_all = x.sum()\n",
    "    num_2[i]=[]\n",
    "    num_2[i].append(sum_all)\n",
    "    num_2[i].append(sum_all/596)\n",
    "    num_2[i].append(sum_all/59500)"
   ],
   "metadata": {
    "collapsed": false,
    "pycharm": {
     "name": "#%%\n"
    }
   }
  },
  {
   "cell_type": "code",
   "execution_count": 37,
   "outputs": [
    {
     "name": "stdout",
     "output_type": "stream",
     "text": [
      "[0.0, 0.0, 0.0]\n",
      "[0.0, 0.0, 0.0]\n",
      "[0.0, 0.0, 0.0]\n",
      "[0.0, 0.0, 0.0]\n",
      "[0.0, 0.0, 0.0]\n",
      "[0.0, 0.0, 0.0]\n",
      "[0.0, 0.0, 0.0]\n",
      "[0.0, 0.0, 0.0]\n",
      "[0.0, 0.0, 0.0]\n",
      "[0.0, 0.0, 0.0]\n"
     ]
    }
   ],
   "source": [
    "for i in range(10):\n",
    "    print(num_2[i])"
   ],
   "metadata": {
    "collapsed": false,
    "pycharm": {
     "name": "#%%\n"
    }
   }
  }
 ],
 "metadata": {
  "kernelspec": {
   "display_name": "Python 3",
   "language": "python",
   "name": "python3"
  },
  "language_info": {
   "codemirror_mode": {
    "name": "ipython",
    "version": 2
   },
   "file_extension": ".py",
   "mimetype": "text/x-python",
   "name": "python",
   "nbconvert_exporter": "python",
   "pygments_lexer": "ipython2",
   "version": "2.7.6"
  }
 },
 "nbformat": 4,
 "nbformat_minor": 0
}